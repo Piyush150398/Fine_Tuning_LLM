{
 "cells": [
  {
   "cell_type": "markdown",
   "id": "bad62598",
   "metadata": {},
   "source": [
    "### `peft` is the hugging face library for `Parameter Efficient Finetuning`. It got everything we need to conduct LoRA in this excrcise."
   ]
  },
  {
   "cell_type": "code",
   "execution_count": 11,
   "id": "cbb549ba",
   "metadata": {},
   "outputs": [],
   "source": [
    "from transformers import (AutoTokenizer, \n",
    "                          TrainingArguments,\n",
    "                          AutoModelForSequenceClassification,\n",
    "                          Trainer)\n",
    "import torch\n",
    "import random\n",
    "from datasets import Dataset, load_dataset\n",
    "import pandas as pd\n",
    "from numpy import e\n",
    "from peft import (LoraConfig,\n",
    "                  TaskType,\n",
    "                  get_peft_model)\n",
    "\n",
    "def set_seed(seed=42):\n",
    "    random.seed(seed)\n",
    "    torch.manual_seed(seed)\n",
    "\n",
    "set_seed()"
   ]
  },
  {
   "cell_type": "markdown",
   "id": "082b8e7b",
   "metadata": {},
   "source": [
    "### Lets select the device to perform following task"
   ]
  },
  {
   "cell_type": "code",
   "execution_count": null,
   "id": "a5061bbc",
   "metadata": {},
   "outputs": [],
   "source": [
    "device = torch.device('cuda' if torch.cuda.is_available() else 'cpu')"
   ]
  },
  {
   "cell_type": "markdown",
   "id": "673afb01",
   "metadata": {},
   "source": [
    "### Lets import the dataset we are going to use. This is already preprocess dataset. So it will save our time for Data Preprocessing."
   ]
  },
  {
   "cell_type": "code",
   "execution_count": 7,
   "id": "e6298585",
   "metadata": {},
   "outputs": [],
   "source": [
    "data = load_dataset('stanfordnlp/imdb')"
   ]
  },
  {
   "cell_type": "code",
   "execution_count": 8,
   "id": "554d6d78",
   "metadata": {},
   "outputs": [],
   "source": [
    "training_set = pd.DataFrame(data['train'])\n",
    "testing_set = pd.DataFrame(data['test'])\n",
    "\n",
    "training_set = Dataset.from_pandas(training_set)\n",
    "testing_set = Dataset.from_pandas(testing_set)"
   ]
  },
  {
   "cell_type": "markdown",
   "id": "385aee13",
   "metadata": {},
   "source": [
    "### Lets import the tokenizer to tokenize the dataset."
   ]
  },
  {
   "cell_type": "code",
   "execution_count": 9,
   "id": "7ace9d30",
   "metadata": {},
   "outputs": [
    {
     "data": {
      "application/vnd.jupyter.widget-view+json": {
       "model_id": "d43d0aee78544cf6a33031f3ee784626",
       "version_major": 2,
       "version_minor": 0
      },
      "text/plain": [
       "Map:   0%|          | 0/25000 [00:00<?, ? examples/s]"
      ]
     },
     "metadata": {},
     "output_type": "display_data"
    },
    {
     "data": {
      "application/vnd.jupyter.widget-view+json": {
       "model_id": "3f2f8d96bf154d3a9904833a21e54679",
       "version_major": 2,
       "version_minor": 0
      },
      "text/plain": [
       "Map:   0%|          | 0/25000 [00:00<?, ? examples/s]"
      ]
     },
     "metadata": {},
     "output_type": "display_data"
    }
   ],
   "source": [
    "tokenizer = AutoTokenizer.from_pretrained(\"distilbert-base-uncased\")\n",
    "\n",
    "# lets define the function for tokenization.\n",
    "def tokenize_function(examples):\n",
    "    return tokenizer(examples['text'], padding=True, truncation=True)\n",
    "\n",
    "tokenized_training_set = training_set.map(tokenize_function, batched=True)\n",
    "tokenized_testing_set = testing_set.map(tokenize_function, batched=True)\n"
   ]
  },
  {
   "cell_type": "markdown",
   "id": "0a4368dc",
   "metadata": {},
   "source": [
    "### Lets set the training arguments for fine tuning."
   ]
  },
  {
   "cell_type": "code",
   "execution_count": null,
   "id": "2e14695d",
   "metadata": {},
   "outputs": [],
   "source": [
    "traning_argument = TrainingArguments(\n",
    "    num_train_epochs=3,\n",
    "    learning_rate= 1e-4,\n",
    "    output_dir= \"./BERT_With_LORA\",\n",
    "    warmup_steps=500,\n",
    "    weight_decay=0.01,\n",
    "    logging_dir='./logs',\n",
    "    \n",
    ")"
   ]
  }
 ],
 "metadata": {
  "kernelspec": {
   "display_name": "Python 3",
   "language": "python",
   "name": "python3"
  },
  "language_info": {
   "codemirror_mode": {
    "name": "ipython",
    "version": 3
   },
   "file_extension": ".py",
   "mimetype": "text/x-python",
   "name": "python",
   "nbconvert_exporter": "python",
   "pygments_lexer": "ipython3",
   "version": "3.12.4"
  }
 },
 "nbformat": 4,
 "nbformat_minor": 5
}
