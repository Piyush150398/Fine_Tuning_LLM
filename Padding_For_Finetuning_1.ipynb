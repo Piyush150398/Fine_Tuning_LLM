{
 "cells": [
  {
   "cell_type": "markdown",
   "id": "70e0004d",
   "metadata": {},
   "source": [
    "## Step 1: Fetching the tokenizer."
   ]
  },
  {
   "cell_type": "code",
   "execution_count": 30,
   "id": "90cdc596",
   "metadata": {},
   "outputs": [],
   "source": [
    "from transformers import AutoTokenizer\n",
    "\n",
    "tokenizer = AutoTokenizer.from_pretrained(\"distilbert-base-uncased\")"
   ]
  },
  {
   "cell_type": "code",
   "execution_count": 31,
   "id": "ecf6a414",
   "metadata": {},
   "outputs": [],
   "source": [
    "example_texts = [\"I am a short sentence.\", \"I am a medium sentence. Not too long, not too short.\", \"I am an exceedingly longwinded, verbose, talks-a-lot, redundant sentence that can't stop running on and on and on.\"]"
   ]
  },
  {
   "cell_type": "markdown",
   "id": "59f0a25f",
   "metadata": {},
   "source": [
    "## Step 2: Lets see how the example text output looks like without the padding."
   ]
  },
  {
   "cell_type": "code",
   "execution_count": 32,
   "id": "721d8663",
   "metadata": {},
   "outputs": [
    {
     "name": "stdout",
     "output_type": "stream",
     "text": [
      "Following text:\n",
      "I am a short sentence.\n",
      "Following is the tokenized output:\n",
      "[101, 1045, 2572, 1037, 2460, 6251, 1012, 102]\n",
      "Length of the tokenized output: 8\n",
      "\n",
      "\n",
      "Following text:\n",
      "I am a medium sentence. Not too long, not too short.\n",
      "Following is the tokenized output:\n",
      "[101, 1045, 2572, 1037, 5396, 6251, 1012, 2025, 2205, 2146, 1010, 2025, 2205, 2460, 1012, 102]\n",
      "Length of the tokenized output: 16\n",
      "\n",
      "\n",
      "Following text:\n",
      "I am an exceedingly longwinded, verbose, talks-a-lot, redundant sentence that can't stop running on and on and on.\n",
      "Following is the tokenized output:\n",
      "[101, 1045, 2572, 2019, 17003, 2135, 2146, 11101, 2098, 1010, 12034, 9232, 1010, 7566, 1011, 1037, 1011, 2843, 1010, 21707, 6251, 2008, 2064, 1005, 1056, 2644, 2770, 2006, 1998, 2006, 1998, 2006, 1012, 102]\n",
      "Length of the tokenized output: 34\n",
      "\n",
      "\n"
     ]
    }
   ],
   "source": [
    "tokenized_data = []\n",
    "for text in example_texts:\n",
    "    tokenized = tokenizer(text)\n",
    "    tokenized_data.append(tokenized)\n",
    "\n",
    "for text,row in zip(example_texts,tokenized_data):\n",
    "    print(\"Following text:\")\n",
    "    print(text)\n",
    "    print(\"Following is the tokenized output:\")\n",
    "    print(row['input_ids'])\n",
    "    print(f\"Length of the tokenized output: {len(row['input_ids'])}\")\n",
    "    print(\"\\n\")"
   ]
  },
  {
   "cell_type": "markdown",
   "id": "ddb97367",
   "metadata": {},
   "source": [
    "# **Conclusion from above output**\n",
    "\n",
    "**As we can see, each senetence has the different length. And to work in batchs we need to process them in parallel. Therefore, there length should be the same while processing in the parallel. `So lets add the paading and see the output.`**"
   ]
  },
  {
   "cell_type": "code",
   "execution_count": 33,
   "id": "53abdec0",
   "metadata": {},
   "outputs": [
    {
     "name": "stdout",
     "output_type": "stream",
     "text": [
      "Following text:\n",
      "I am a short sentence.\n",
      "Following is the tokenized output:\n",
      "[101, 1045, 2572, 1037, 2460, 6251, 1012, 102, 0, 0, 0, 0, 0, 0, 0, 0, 0, 0, 0, 0, 0, 0, 0, 0, 0, 0, 0, 0, 0, 0, 0, 0, 0, 0, 0, 0, 0, 0, 0, 0, 0, 0, 0, 0, 0, 0, 0, 0, 0, 0]\n",
      "Length of the tokenized output: 50\n",
      "\n",
      "\n",
      "Following text:\n",
      "I am a medium sentence. Not too long, not too short.\n",
      "Following is the tokenized output:\n",
      "[101, 1045, 2572, 1037, 5396, 6251, 1012, 2025, 2205, 2146, 1010, 2025, 2205, 2460, 1012, 102, 0, 0, 0, 0, 0, 0, 0, 0, 0, 0, 0, 0, 0, 0, 0, 0, 0, 0, 0, 0, 0, 0, 0, 0, 0, 0, 0, 0, 0, 0, 0, 0, 0, 0]\n",
      "Length of the tokenized output: 50\n",
      "\n",
      "\n",
      "Following text:\n",
      "I am an exceedingly longwinded, verbose, talks-a-lot, redundant sentence that can't stop running on and on and on.\n",
      "Following is the tokenized output:\n",
      "[101, 1045, 2572, 2019, 17003, 2135, 2146, 11101, 2098, 1010, 12034, 9232, 1010, 7566, 1011, 1037, 1011, 2843, 1010, 21707, 6251, 2008, 2064, 1005, 1056, 2644, 2770, 2006, 1998, 2006, 1998, 2006, 1012, 102, 0, 0, 0, 0, 0, 0, 0, 0, 0, 0, 0, 0, 0, 0, 0, 0]\n",
      "Length of the tokenized output: 50\n",
      "\n",
      "\n"
     ]
    }
   ],
   "source": [
    "tokenized_data = []\n",
    "for text in example_texts:\n",
    "    tokenized = tokenizer(text, padding='max_length', max_length=50)\n",
    "    tokenized_data.append(tokenized)\n",
    "\n",
    "for text,row in zip(example_texts,tokenized_data):\n",
    "    print(\"Following text:\")\n",
    "    print(text)\n",
    "    print(\"Following is the tokenized output:\")\n",
    "    print(row['input_ids'])\n",
    "    print(f\"Length of the tokenized output: {len(row['input_ids'])}\")\n",
    "    print(\"\\n\")"
   ]
  },
  {
   "cell_type": "markdown",
   "id": "019adf51",
   "metadata": {},
   "source": [
    "# Conclusion\n",
    "\n",
    "**As you can see, every sequence is padded out to the length specified (in this case, 50 tokens). And as last sentence is the longest senetence of `example_texts`. Still has the lots of zero as padding. This is inefficient, because even the longest sequence now contains numerous tokens that aren't teaching the model anything.**\n",
    "\n",
    "**Instead of that, we should use `dynamic padding`, which pads sequences to match the length of the longest sentence (or the maximum number of tokens) required by the model for a given batch or corpus.**"
   ]
  },
  {
   "cell_type": "code",
   "execution_count": 34,
   "id": "677e300f",
   "metadata": {},
   "outputs": [
    {
     "name": "stdout",
     "output_type": "stream",
     "text": [
      "Following text:\n",
      "I am a short sentence.\n",
      "Following is the tokenized output:\n",
      "[101, 1045, 2572, 1037, 2460, 6251, 1012, 102, 0, 0, 0, 0, 0, 0, 0, 0, 0, 0, 0, 0, 0, 0, 0, 0, 0, 0, 0, 0, 0, 0, 0, 0, 0, 0]\n",
      "Length of the tokenized output: 34\n",
      "\n",
      "\n",
      "Following text:\n",
      "I am a medium sentence. Not too long, not too short.\n",
      "Following is the tokenized output:\n",
      "[101, 1045, 2572, 1037, 5396, 6251, 1012, 2025, 2205, 2146, 1010, 2025, 2205, 2460, 1012, 102, 0, 0, 0, 0, 0, 0, 0, 0, 0, 0, 0, 0, 0, 0, 0, 0, 0, 0]\n",
      "Length of the tokenized output: 34\n",
      "\n",
      "\n",
      "Following text:\n",
      "I am an exceedingly longwinded, verbose, talks-a-lot, redundant sentence that can't stop running on and on and on.\n",
      "Following is the tokenized output:\n",
      "[101, 1045, 2572, 2019, 17003, 2135, 2146, 11101, 2098, 1010, 12034, 9232, 1010, 7566, 1011, 1037, 1011, 2843, 1010, 21707, 6251, 2008, 2064, 1005, 1056, 2644, 2770, 2006, 1998, 2006, 1998, 2006, 1012, 102]\n",
      "Length of the tokenized output: 34\n",
      "\n",
      "\n"
     ]
    }
   ],
   "source": [
    "dynamically_padded = tokenizer(example_texts, padding='longest')\n",
    "\n",
    "for i in range(3):\n",
    "    print(\"Following text:\")\n",
    "    print(example_texts[i])\n",
    "    print(\"Following is the tokenized output:\")\n",
    "    print(dynamically_padded['input_ids'][i])\n",
    "    print(f\"Length of the tokenized output: {len(dynamically_padded['input_ids'][i])}\")\n",
    "    print(\"\\n\")"
   ]
  },
  {
   "cell_type": "markdown",
   "id": "d338ded7",
   "metadata": {},
   "source": [
    "# Conclusion\n",
    "\n",
    "See how the longwinded sentence contains no padding? That's because every other example only pads out to its length.\n",
    "\n",
    "We've covered how to lengthen examples that are too short. What about the opposite problem?\n",
    "\n",
    "*Truncation* is the technique used to cut off sequences which we decide are too long. The default truncation setting when `True` is to truncate to the longest length permitted by the model. However, you can also set a max length to truncate to, if that is ever a requirement.\n"
   ]
  },
  {
   "cell_type": "markdown",
   "id": "9cd4c9b4",
   "metadata": {},
   "source": [
    "In the version of `example_texts` below, we now make the long sentence 50 times longer, to a total length of 1402 tokens.\n",
    "\n",
    "First, assign to `tokenized_no_truncation` the tokenized version of `example_texts` with truncation turned off (`truncation=False`).\n",
    "\n",
    "Then, for `tokenized_default_truncation`, simply pass `truncation=True` when passing `example_texts` to the tokenizer. This automatically truncates to the longest length permitted by the model `(512 for DistilBERT)`.\n",
    "\n",
    "Finally, in `tokenized_max_length`, pass `truncation=True` and `max_length=5` to the tokenizer. Then execute the cell and compare the lengths of each output.\n"
   ]
  },
  {
   "cell_type": "code",
   "execution_count": 35,
   "id": "6e86a778",
   "metadata": {},
   "outputs": [
    {
     "name": "stderr",
     "output_type": "stream",
     "text": [
      "Token indices sequence length is longer than the specified maximum sequence length for this model (1402 > 512). Running this sequence through the model will result in indexing errors\n"
     ]
    },
    {
     "name": "stdout",
     "output_type": "stream",
     "text": [
      "#### Toknized with no trunction ####\n",
      "\n",
      "Following text:\n",
      "I am a short sentence.\n",
      "Following is the tokenized output:\n",
      "[101, 1045, 2572, 1037, 2460, 6251, 1012, 102]\n",
      "Length of the tokenized output: 8\n",
      "\n",
      "\n",
      "Following text:\n",
      "I am an exceedingly longwinded, verbose, talks-a-lot, redundant sentence that can't stop running on.I am an exceedingly longwinded, verbose, talks-a-lot, redundant sentence that can't stop running on.I am an exceedingly longwinded, verbose, talks-a-lot, redundant sentence that can't stop running on.I am an exceedingly longwinded, verbose, talks-a-lot, redundant sentence that can't stop running on.I am an exceedingly longwinded, verbose, talks-a-lot, redundant sentence that can't stop running on.I am an exceedingly longwinded, verbose, talks-a-lot, redundant sentence that can't stop running on.I am an exceedingly longwinded, verbose, talks-a-lot, redundant sentence that can't stop running on.I am an exceedingly longwinded, verbose, talks-a-lot, redundant sentence that can't stop running on.I am an exceedingly longwinded, verbose, talks-a-lot, redundant sentence that can't stop running on.I am an exceedingly longwinded, verbose, talks-a-lot, redundant sentence that can't stop running on.I am an exceedingly longwinded, verbose, talks-a-lot, redundant sentence that can't stop running on.I am an exceedingly longwinded, verbose, talks-a-lot, redundant sentence that can't stop running on.I am an exceedingly longwinded, verbose, talks-a-lot, redundant sentence that can't stop running on.I am an exceedingly longwinded, verbose, talks-a-lot, redundant sentence that can't stop running on.I am an exceedingly longwinded, verbose, talks-a-lot, redundant sentence that can't stop running on.I am an exceedingly longwinded, verbose, talks-a-lot, redundant sentence that can't stop running on.I am an exceedingly longwinded, verbose, talks-a-lot, redundant sentence that can't stop running on.I am an exceedingly longwinded, verbose, talks-a-lot, redundant sentence that can't stop running on.I am an exceedingly longwinded, verbose, talks-a-lot, redundant sentence that can't stop running on.I am an exceedingly longwinded, verbose, talks-a-lot, redundant sentence that can't stop running on.I am an exceedingly longwinded, verbose, talks-a-lot, redundant sentence that can't stop running on.I am an exceedingly longwinded, verbose, talks-a-lot, redundant sentence that can't stop running on.I am an exceedingly longwinded, verbose, talks-a-lot, redundant sentence that can't stop running on.I am an exceedingly longwinded, verbose, talks-a-lot, redundant sentence that can't stop running on.I am an exceedingly longwinded, verbose, talks-a-lot, redundant sentence that can't stop running on.I am an exceedingly longwinded, verbose, talks-a-lot, redundant sentence that can't stop running on.I am an exceedingly longwinded, verbose, talks-a-lot, redundant sentence that can't stop running on.I am an exceedingly longwinded, verbose, talks-a-lot, redundant sentence that can't stop running on.I am an exceedingly longwinded, verbose, talks-a-lot, redundant sentence that can't stop running on.I am an exceedingly longwinded, verbose, talks-a-lot, redundant sentence that can't stop running on.I am an exceedingly longwinded, verbose, talks-a-lot, redundant sentence that can't stop running on.I am an exceedingly longwinded, verbose, talks-a-lot, redundant sentence that can't stop running on.I am an exceedingly longwinded, verbose, talks-a-lot, redundant sentence that can't stop running on.I am an exceedingly longwinded, verbose, talks-a-lot, redundant sentence that can't stop running on.I am an exceedingly longwinded, verbose, talks-a-lot, redundant sentence that can't stop running on.I am an exceedingly longwinded, verbose, talks-a-lot, redundant sentence that can't stop running on.I am an exceedingly longwinded, verbose, talks-a-lot, redundant sentence that can't stop running on.I am an exceedingly longwinded, verbose, talks-a-lot, redundant sentence that can't stop running on.I am an exceedingly longwinded, verbose, talks-a-lot, redundant sentence that can't stop running on.I am an exceedingly longwinded, verbose, talks-a-lot, redundant sentence that can't stop running on.I am an exceedingly longwinded, verbose, talks-a-lot, redundant sentence that can't stop running on.I am an exceedingly longwinded, verbose, talks-a-lot, redundant sentence that can't stop running on.I am an exceedingly longwinded, verbose, talks-a-lot, redundant sentence that can't stop running on.I am an exceedingly longwinded, verbose, talks-a-lot, redundant sentence that can't stop running on.I am an exceedingly longwinded, verbose, talks-a-lot, redundant sentence that can't stop running on.I am an exceedingly longwinded, verbose, talks-a-lot, redundant sentence that can't stop running on.I am an exceedingly longwinded, verbose, talks-a-lot, redundant sentence that can't stop running on.I am an exceedingly longwinded, verbose, talks-a-lot, redundant sentence that can't stop running on.I am an exceedingly longwinded, verbose, talks-a-lot, redundant sentence that can't stop running on.I am an exceedingly longwinded, verbose, talks-a-lot, redundant sentence that can't stop running on.\n",
      "Following is the tokenized output:\n",
      "[101, 1045, 2572, 2019, 17003, 2135, 2146, 11101, 2098, 1010, 12034, 9232, 1010, 7566, 1011, 1037, 1011, 2843, 1010, 21707, 6251, 2008, 2064, 1005, 1056, 2644, 2770, 2006, 1012, 1045, 2572, 2019, 17003, 2135, 2146, 11101, 2098, 1010, 12034, 9232, 1010, 7566, 1011, 1037, 1011, 2843, 1010, 21707, 6251, 2008, 2064, 1005, 1056, 2644, 2770, 2006, 1012, 1045, 2572, 2019, 17003, 2135, 2146, 11101, 2098, 1010, 12034, 9232, 1010, 7566, 1011, 1037, 1011, 2843, 1010, 21707, 6251, 2008, 2064, 1005, 1056, 2644, 2770, 2006, 1012, 1045, 2572, 2019, 17003, 2135, 2146, 11101, 2098, 1010, 12034, 9232, 1010, 7566, 1011, 1037, 1011, 2843, 1010, 21707, 6251, 2008, 2064, 1005, 1056, 2644, 2770, 2006, 1012, 1045, 2572, 2019, 17003, 2135, 2146, 11101, 2098, 1010, 12034, 9232, 1010, 7566, 1011, 1037, 1011, 2843, 1010, 21707, 6251, 2008, 2064, 1005, 1056, 2644, 2770, 2006, 1012, 1045, 2572, 2019, 17003, 2135, 2146, 11101, 2098, 1010, 12034, 9232, 1010, 7566, 1011, 1037, 1011, 2843, 1010, 21707, 6251, 2008, 2064, 1005, 1056, 2644, 2770, 2006, 1012, 1045, 2572, 2019, 17003, 2135, 2146, 11101, 2098, 1010, 12034, 9232, 1010, 7566, 1011, 1037, 1011, 2843, 1010, 21707, 6251, 2008, 2064, 1005, 1056, 2644, 2770, 2006, 1012, 1045, 2572, 2019, 17003, 2135, 2146, 11101, 2098, 1010, 12034, 9232, 1010, 7566, 1011, 1037, 1011, 2843, 1010, 21707, 6251, 2008, 2064, 1005, 1056, 2644, 2770, 2006, 1012, 1045, 2572, 2019, 17003, 2135, 2146, 11101, 2098, 1010, 12034, 9232, 1010, 7566, 1011, 1037, 1011, 2843, 1010, 21707, 6251, 2008, 2064, 1005, 1056, 2644, 2770, 2006, 1012, 1045, 2572, 2019, 17003, 2135, 2146, 11101, 2098, 1010, 12034, 9232, 1010, 7566, 1011, 1037, 1011, 2843, 1010, 21707, 6251, 2008, 2064, 1005, 1056, 2644, 2770, 2006, 1012, 1045, 2572, 2019, 17003, 2135, 2146, 11101, 2098, 1010, 12034, 9232, 1010, 7566, 1011, 1037, 1011, 2843, 1010, 21707, 6251, 2008, 2064, 1005, 1056, 2644, 2770, 2006, 1012, 1045, 2572, 2019, 17003, 2135, 2146, 11101, 2098, 1010, 12034, 9232, 1010, 7566, 1011, 1037, 1011, 2843, 1010, 21707, 6251, 2008, 2064, 1005, 1056, 2644, 2770, 2006, 1012, 1045, 2572, 2019, 17003, 2135, 2146, 11101, 2098, 1010, 12034, 9232, 1010, 7566, 1011, 1037, 1011, 2843, 1010, 21707, 6251, 2008, 2064, 1005, 1056, 2644, 2770, 2006, 1012, 1045, 2572, 2019, 17003, 2135, 2146, 11101, 2098, 1010, 12034, 9232, 1010, 7566, 1011, 1037, 1011, 2843, 1010, 21707, 6251, 2008, 2064, 1005, 1056, 2644, 2770, 2006, 1012, 1045, 2572, 2019, 17003, 2135, 2146, 11101, 2098, 1010, 12034, 9232, 1010, 7566, 1011, 1037, 1011, 2843, 1010, 21707, 6251, 2008, 2064, 1005, 1056, 2644, 2770, 2006, 1012, 1045, 2572, 2019, 17003, 2135, 2146, 11101, 2098, 1010, 12034, 9232, 1010, 7566, 1011, 1037, 1011, 2843, 1010, 21707, 6251, 2008, 2064, 1005, 1056, 2644, 2770, 2006, 1012, 1045, 2572, 2019, 17003, 2135, 2146, 11101, 2098, 1010, 12034, 9232, 1010, 7566, 1011, 1037, 1011, 2843, 1010, 21707, 6251, 2008, 2064, 1005, 1056, 2644, 2770, 2006, 1012, 1045, 2572, 2019, 17003, 2135, 2146, 11101, 2098, 1010, 12034, 9232, 1010, 7566, 1011, 1037, 1011, 2843, 1010, 21707, 6251, 2008, 2064, 1005, 1056, 2644, 2770, 2006, 1012, 1045, 2572, 2019, 17003, 2135, 2146, 11101, 2098, 1010, 12034, 9232, 1010, 7566, 1011, 1037, 1011, 2843, 1010, 21707, 6251, 2008, 2064, 1005, 1056, 2644, 2770, 2006, 1012, 1045, 2572, 2019, 17003, 2135, 2146, 11101, 2098, 1010, 12034, 9232, 1010, 7566, 1011, 1037, 1011, 2843, 1010, 21707, 6251, 2008, 2064, 1005, 1056, 2644, 2770, 2006, 1012, 1045, 2572, 2019, 17003, 2135, 2146, 11101, 2098, 1010, 12034, 9232, 1010, 7566, 1011, 1037, 1011, 2843, 1010, 21707, 6251, 2008, 2064, 1005, 1056, 2644, 2770, 2006, 1012, 1045, 2572, 2019, 17003, 2135, 2146, 11101, 2098, 1010, 12034, 9232, 1010, 7566, 1011, 1037, 1011, 2843, 1010, 21707, 6251, 2008, 2064, 1005, 1056, 2644, 2770, 2006, 1012, 1045, 2572, 2019, 17003, 2135, 2146, 11101, 2098, 1010, 12034, 9232, 1010, 7566, 1011, 1037, 1011, 2843, 1010, 21707, 6251, 2008, 2064, 1005, 1056, 2644, 2770, 2006, 1012, 1045, 2572, 2019, 17003, 2135, 2146, 11101, 2098, 1010, 12034, 9232, 1010, 7566, 1011, 1037, 1011, 2843, 1010, 21707, 6251, 2008, 2064, 1005, 1056, 2644, 2770, 2006, 1012, 1045, 2572, 2019, 17003, 2135, 2146, 11101, 2098, 1010, 12034, 9232, 1010, 7566, 1011, 1037, 1011, 2843, 1010, 21707, 6251, 2008, 2064, 1005, 1056, 2644, 2770, 2006, 1012, 1045, 2572, 2019, 17003, 2135, 2146, 11101, 2098, 1010, 12034, 9232, 1010, 7566, 1011, 1037, 1011, 2843, 1010, 21707, 6251, 2008, 2064, 1005, 1056, 2644, 2770, 2006, 1012, 1045, 2572, 2019, 17003, 2135, 2146, 11101, 2098, 1010, 12034, 9232, 1010, 7566, 1011, 1037, 1011, 2843, 1010, 21707, 6251, 2008, 2064, 1005, 1056, 2644, 2770, 2006, 1012, 1045, 2572, 2019, 17003, 2135, 2146, 11101, 2098, 1010, 12034, 9232, 1010, 7566, 1011, 1037, 1011, 2843, 1010, 21707, 6251, 2008, 2064, 1005, 1056, 2644, 2770, 2006, 1012, 1045, 2572, 2019, 17003, 2135, 2146, 11101, 2098, 1010, 12034, 9232, 1010, 7566, 1011, 1037, 1011, 2843, 1010, 21707, 6251, 2008, 2064, 1005, 1056, 2644, 2770, 2006, 1012, 1045, 2572, 2019, 17003, 2135, 2146, 11101, 2098, 1010, 12034, 9232, 1010, 7566, 1011, 1037, 1011, 2843, 1010, 21707, 6251, 2008, 2064, 1005, 1056, 2644, 2770, 2006, 1012, 1045, 2572, 2019, 17003, 2135, 2146, 11101, 2098, 1010, 12034, 9232, 1010, 7566, 1011, 1037, 1011, 2843, 1010, 21707, 6251, 2008, 2064, 1005, 1056, 2644, 2770, 2006, 1012, 1045, 2572, 2019, 17003, 2135, 2146, 11101, 2098, 1010, 12034, 9232, 1010, 7566, 1011, 1037, 1011, 2843, 1010, 21707, 6251, 2008, 2064, 1005, 1056, 2644, 2770, 2006, 1012, 1045, 2572, 2019, 17003, 2135, 2146, 11101, 2098, 1010, 12034, 9232, 1010, 7566, 1011, 1037, 1011, 2843, 1010, 21707, 6251, 2008, 2064, 1005, 1056, 2644, 2770, 2006, 1012, 1045, 2572, 2019, 17003, 2135, 2146, 11101, 2098, 1010, 12034, 9232, 1010, 7566, 1011, 1037, 1011, 2843, 1010, 21707, 6251, 2008, 2064, 1005, 1056, 2644, 2770, 2006, 1012, 1045, 2572, 2019, 17003, 2135, 2146, 11101, 2098, 1010, 12034, 9232, 1010, 7566, 1011, 1037, 1011, 2843, 1010, 21707, 6251, 2008, 2064, 1005, 1056, 2644, 2770, 2006, 1012, 1045, 2572, 2019, 17003, 2135, 2146, 11101, 2098, 1010, 12034, 9232, 1010, 7566, 1011, 1037, 1011, 2843, 1010, 21707, 6251, 2008, 2064, 1005, 1056, 2644, 2770, 2006, 1012, 1045, 2572, 2019, 17003, 2135, 2146, 11101, 2098, 1010, 12034, 9232, 1010, 7566, 1011, 1037, 1011, 2843, 1010, 21707, 6251, 2008, 2064, 1005, 1056, 2644, 2770, 2006, 1012, 1045, 2572, 2019, 17003, 2135, 2146, 11101, 2098, 1010, 12034, 9232, 1010, 7566, 1011, 1037, 1011, 2843, 1010, 21707, 6251, 2008, 2064, 1005, 1056, 2644, 2770, 2006, 1012, 1045, 2572, 2019, 17003, 2135, 2146, 11101, 2098, 1010, 12034, 9232, 1010, 7566, 1011, 1037, 1011, 2843, 1010, 21707, 6251, 2008, 2064, 1005, 1056, 2644, 2770, 2006, 1012, 1045, 2572, 2019, 17003, 2135, 2146, 11101, 2098, 1010, 12034, 9232, 1010, 7566, 1011, 1037, 1011, 2843, 1010, 21707, 6251, 2008, 2064, 1005, 1056, 2644, 2770, 2006, 1012, 1045, 2572, 2019, 17003, 2135, 2146, 11101, 2098, 1010, 12034, 9232, 1010, 7566, 1011, 1037, 1011, 2843, 1010, 21707, 6251, 2008, 2064, 1005, 1056, 2644, 2770, 2006, 1012, 1045, 2572, 2019, 17003, 2135, 2146, 11101, 2098, 1010, 12034, 9232, 1010, 7566, 1011, 1037, 1011, 2843, 1010, 21707, 6251, 2008, 2064, 1005, 1056, 2644, 2770, 2006, 1012, 1045, 2572, 2019, 17003, 2135, 2146, 11101, 2098, 1010, 12034, 9232, 1010, 7566, 1011, 1037, 1011, 2843, 1010, 21707, 6251, 2008, 2064, 1005, 1056, 2644, 2770, 2006, 1012, 1045, 2572, 2019, 17003, 2135, 2146, 11101, 2098, 1010, 12034, 9232, 1010, 7566, 1011, 1037, 1011, 2843, 1010, 21707, 6251, 2008, 2064, 1005, 1056, 2644, 2770, 2006, 1012, 1045, 2572, 2019, 17003, 2135, 2146, 11101, 2098, 1010, 12034, 9232, 1010, 7566, 1011, 1037, 1011, 2843, 1010, 21707, 6251, 2008, 2064, 1005, 1056, 2644, 2770, 2006, 1012, 1045, 2572, 2019, 17003, 2135, 2146, 11101, 2098, 1010, 12034, 9232, 1010, 7566, 1011, 1037, 1011, 2843, 1010, 21707, 6251, 2008, 2064, 1005, 1056, 2644, 2770, 2006, 1012, 1045, 2572, 2019, 17003, 2135, 2146, 11101, 2098, 1010, 12034, 9232, 1010, 7566, 1011, 1037, 1011, 2843, 1010, 21707, 6251, 2008, 2064, 1005, 1056, 2644, 2770, 2006, 1012, 1045, 2572, 2019, 17003, 2135, 2146, 11101, 2098, 1010, 12034, 9232, 1010, 7566, 1011, 1037, 1011, 2843, 1010, 21707, 6251, 2008, 2064, 1005, 1056, 2644, 2770, 2006, 1012, 1045, 2572, 2019, 17003, 2135, 2146, 11101, 2098, 1010, 12034, 9232, 1010, 7566, 1011, 1037, 1011, 2843, 1010, 21707, 6251, 2008, 2064, 1005, 1056, 2644, 2770, 2006, 1012, 1045, 2572, 2019, 17003, 2135, 2146, 11101, 2098, 1010, 12034, 9232, 1010, 7566, 1011, 1037, 1011, 2843, 1010, 21707, 6251, 2008, 2064, 1005, 1056, 2644, 2770, 2006, 1012, 102]\n",
      "Length of the tokenized output: 1402\n",
      "\n",
      "\n",
      "#### Tokenization with truncation ####\n",
      "Following text:\n",
      "I am a short sentence.\n",
      "Following is the tokenized output:\n",
      "[101, 1045, 2572, 1037, 2460, 6251, 1012, 102]\n",
      "Length of the tokenized output: 8\n",
      "\n",
      "\n",
      "Following text:\n",
      "I am an exceedingly longwinded, verbose, talks-a-lot, redundant sentence that can't stop running on.I am an exceedingly longwinded, verbose, talks-a-lot, redundant sentence that can't stop running on.I am an exceedingly longwinded, verbose, talks-a-lot, redundant sentence that can't stop running on.I am an exceedingly longwinded, verbose, talks-a-lot, redundant sentence that can't stop running on.I am an exceedingly longwinded, verbose, talks-a-lot, redundant sentence that can't stop running on.I am an exceedingly longwinded, verbose, talks-a-lot, redundant sentence that can't stop running on.I am an exceedingly longwinded, verbose, talks-a-lot, redundant sentence that can't stop running on.I am an exceedingly longwinded, verbose, talks-a-lot, redundant sentence that can't stop running on.I am an exceedingly longwinded, verbose, talks-a-lot, redundant sentence that can't stop running on.I am an exceedingly longwinded, verbose, talks-a-lot, redundant sentence that can't stop running on.I am an exceedingly longwinded, verbose, talks-a-lot, redundant sentence that can't stop running on.I am an exceedingly longwinded, verbose, talks-a-lot, redundant sentence that can't stop running on.I am an exceedingly longwinded, verbose, talks-a-lot, redundant sentence that can't stop running on.I am an exceedingly longwinded, verbose, talks-a-lot, redundant sentence that can't stop running on.I am an exceedingly longwinded, verbose, talks-a-lot, redundant sentence that can't stop running on.I am an exceedingly longwinded, verbose, talks-a-lot, redundant sentence that can't stop running on.I am an exceedingly longwinded, verbose, talks-a-lot, redundant sentence that can't stop running on.I am an exceedingly longwinded, verbose, talks-a-lot, redundant sentence that can't stop running on.I am an exceedingly longwinded, verbose, talks-a-lot, redundant sentence that can't stop running on.I am an exceedingly longwinded, verbose, talks-a-lot, redundant sentence that can't stop running on.I am an exceedingly longwinded, verbose, talks-a-lot, redundant sentence that can't stop running on.I am an exceedingly longwinded, verbose, talks-a-lot, redundant sentence that can't stop running on.I am an exceedingly longwinded, verbose, talks-a-lot, redundant sentence that can't stop running on.I am an exceedingly longwinded, verbose, talks-a-lot, redundant sentence that can't stop running on.I am an exceedingly longwinded, verbose, talks-a-lot, redundant sentence that can't stop running on.I am an exceedingly longwinded, verbose, talks-a-lot, redundant sentence that can't stop running on.I am an exceedingly longwinded, verbose, talks-a-lot, redundant sentence that can't stop running on.I am an exceedingly longwinded, verbose, talks-a-lot, redundant sentence that can't stop running on.I am an exceedingly longwinded, verbose, talks-a-lot, redundant sentence that can't stop running on.I am an exceedingly longwinded, verbose, talks-a-lot, redundant sentence that can't stop running on.I am an exceedingly longwinded, verbose, talks-a-lot, redundant sentence that can't stop running on.I am an exceedingly longwinded, verbose, talks-a-lot, redundant sentence that can't stop running on.I am an exceedingly longwinded, verbose, talks-a-lot, redundant sentence that can't stop running on.I am an exceedingly longwinded, verbose, talks-a-lot, redundant sentence that can't stop running on.I am an exceedingly longwinded, verbose, talks-a-lot, redundant sentence that can't stop running on.I am an exceedingly longwinded, verbose, talks-a-lot, redundant sentence that can't stop running on.I am an exceedingly longwinded, verbose, talks-a-lot, redundant sentence that can't stop running on.I am an exceedingly longwinded, verbose, talks-a-lot, redundant sentence that can't stop running on.I am an exceedingly longwinded, verbose, talks-a-lot, redundant sentence that can't stop running on.I am an exceedingly longwinded, verbose, talks-a-lot, redundant sentence that can't stop running on.I am an exceedingly longwinded, verbose, talks-a-lot, redundant sentence that can't stop running on.I am an exceedingly longwinded, verbose, talks-a-lot, redundant sentence that can't stop running on.I am an exceedingly longwinded, verbose, talks-a-lot, redundant sentence that can't stop running on.I am an exceedingly longwinded, verbose, talks-a-lot, redundant sentence that can't stop running on.I am an exceedingly longwinded, verbose, talks-a-lot, redundant sentence that can't stop running on.I am an exceedingly longwinded, verbose, talks-a-lot, redundant sentence that can't stop running on.I am an exceedingly longwinded, verbose, talks-a-lot, redundant sentence that can't stop running on.I am an exceedingly longwinded, verbose, talks-a-lot, redundant sentence that can't stop running on.I am an exceedingly longwinded, verbose, talks-a-lot, redundant sentence that can't stop running on.I am an exceedingly longwinded, verbose, talks-a-lot, redundant sentence that can't stop running on.\n",
      "Following is the tokenized output:\n",
      "[101, 1045, 2572, 2019, 17003, 2135, 2146, 11101, 2098, 1010, 12034, 9232, 1010, 7566, 1011, 1037, 1011, 2843, 1010, 21707, 6251, 2008, 2064, 1005, 1056, 2644, 2770, 2006, 1012, 1045, 2572, 2019, 17003, 2135, 2146, 11101, 2098, 1010, 12034, 9232, 1010, 7566, 1011, 1037, 1011, 2843, 1010, 21707, 6251, 2008, 2064, 1005, 1056, 2644, 2770, 2006, 1012, 1045, 2572, 2019, 17003, 2135, 2146, 11101, 2098, 1010, 12034, 9232, 1010, 7566, 1011, 1037, 1011, 2843, 1010, 21707, 6251, 2008, 2064, 1005, 1056, 2644, 2770, 2006, 1012, 1045, 2572, 2019, 17003, 2135, 2146, 11101, 2098, 1010, 12034, 9232, 1010, 7566, 1011, 1037, 1011, 2843, 1010, 21707, 6251, 2008, 2064, 1005, 1056, 2644, 2770, 2006, 1012, 1045, 2572, 2019, 17003, 2135, 2146, 11101, 2098, 1010, 12034, 9232, 1010, 7566, 1011, 1037, 1011, 2843, 1010, 21707, 6251, 2008, 2064, 1005, 1056, 2644, 2770, 2006, 1012, 1045, 2572, 2019, 17003, 2135, 2146, 11101, 2098, 1010, 12034, 9232, 1010, 7566, 1011, 1037, 1011, 2843, 1010, 21707, 6251, 2008, 2064, 1005, 1056, 2644, 2770, 2006, 1012, 1045, 2572, 2019, 17003, 2135, 2146, 11101, 2098, 1010, 12034, 9232, 1010, 7566, 1011, 1037, 1011, 2843, 1010, 21707, 6251, 2008, 2064, 1005, 1056, 2644, 2770, 2006, 1012, 1045, 2572, 2019, 17003, 2135, 2146, 11101, 2098, 1010, 12034, 9232, 1010, 7566, 1011, 1037, 1011, 2843, 1010, 21707, 6251, 2008, 2064, 1005, 1056, 2644, 2770, 2006, 1012, 1045, 2572, 2019, 17003, 2135, 2146, 11101, 2098, 1010, 12034, 9232, 1010, 7566, 1011, 1037, 1011, 2843, 1010, 21707, 6251, 2008, 2064, 1005, 1056, 2644, 2770, 2006, 1012, 1045, 2572, 2019, 17003, 2135, 2146, 11101, 2098, 1010, 12034, 9232, 1010, 7566, 1011, 1037, 1011, 2843, 1010, 21707, 6251, 2008, 2064, 1005, 1056, 2644, 2770, 2006, 1012, 1045, 2572, 2019, 17003, 2135, 2146, 11101, 2098, 1010, 12034, 9232, 1010, 7566, 1011, 1037, 1011, 2843, 1010, 21707, 6251, 2008, 2064, 1005, 1056, 2644, 2770, 2006, 1012, 1045, 2572, 2019, 17003, 2135, 2146, 11101, 2098, 1010, 12034, 9232, 1010, 7566, 1011, 1037, 1011, 2843, 1010, 21707, 6251, 2008, 2064, 1005, 1056, 2644, 2770, 2006, 1012, 1045, 2572, 2019, 17003, 2135, 2146, 11101, 2098, 1010, 12034, 9232, 1010, 7566, 1011, 1037, 1011, 2843, 1010, 21707, 6251, 2008, 2064, 1005, 1056, 2644, 2770, 2006, 1012, 1045, 2572, 2019, 17003, 2135, 2146, 11101, 2098, 1010, 12034, 9232, 1010, 7566, 1011, 1037, 1011, 2843, 1010, 21707, 6251, 2008, 2064, 1005, 1056, 2644, 2770, 2006, 1012, 1045, 2572, 2019, 17003, 2135, 2146, 11101, 2098, 1010, 12034, 9232, 1010, 7566, 1011, 1037, 1011, 2843, 1010, 21707, 6251, 2008, 2064, 1005, 1056, 2644, 2770, 2006, 1012, 1045, 2572, 2019, 17003, 2135, 2146, 11101, 2098, 1010, 12034, 9232, 1010, 7566, 1011, 1037, 1011, 2843, 1010, 21707, 6251, 2008, 2064, 1005, 1056, 2644, 2770, 2006, 1012, 1045, 2572, 2019, 17003, 2135, 2146, 11101, 2098, 1010, 12034, 9232, 1010, 7566, 1011, 1037, 1011, 2843, 1010, 21707, 6251, 2008, 2064, 1005, 1056, 2644, 2770, 2006, 1012, 1045, 2572, 2019, 17003, 2135, 2146, 11101, 2098, 1010, 12034, 9232, 1010, 7566, 1011, 1037, 1011, 2843, 1010, 21707, 6251, 2008, 2064, 1005, 1056, 2644, 2770, 2006, 1012, 1045, 2572, 2019, 17003, 2135, 2146, 102]\n",
      "Length of the tokenized output: 512\n",
      "\n",
      "\n",
      "#### Tokenization with truncation and max length ####\n",
      "Following text:\n",
      "I am a short sentence.\n",
      "Following is the tokenized output:\n",
      "[101, 1045, 2572, 1037, 102]\n",
      "Length of the tokenized output: 5\n",
      "\n",
      "\n",
      "Following text:\n",
      "I am an exceedingly longwinded, verbose, talks-a-lot, redundant sentence that can't stop running on.I am an exceedingly longwinded, verbose, talks-a-lot, redundant sentence that can't stop running on.I am an exceedingly longwinded, verbose, talks-a-lot, redundant sentence that can't stop running on.I am an exceedingly longwinded, verbose, talks-a-lot, redundant sentence that can't stop running on.I am an exceedingly longwinded, verbose, talks-a-lot, redundant sentence that can't stop running on.I am an exceedingly longwinded, verbose, talks-a-lot, redundant sentence that can't stop running on.I am an exceedingly longwinded, verbose, talks-a-lot, redundant sentence that can't stop running on.I am an exceedingly longwinded, verbose, talks-a-lot, redundant sentence that can't stop running on.I am an exceedingly longwinded, verbose, talks-a-lot, redundant sentence that can't stop running on.I am an exceedingly longwinded, verbose, talks-a-lot, redundant sentence that can't stop running on.I am an exceedingly longwinded, verbose, talks-a-lot, redundant sentence that can't stop running on.I am an exceedingly longwinded, verbose, talks-a-lot, redundant sentence that can't stop running on.I am an exceedingly longwinded, verbose, talks-a-lot, redundant sentence that can't stop running on.I am an exceedingly longwinded, verbose, talks-a-lot, redundant sentence that can't stop running on.I am an exceedingly longwinded, verbose, talks-a-lot, redundant sentence that can't stop running on.I am an exceedingly longwinded, verbose, talks-a-lot, redundant sentence that can't stop running on.I am an exceedingly longwinded, verbose, talks-a-lot, redundant sentence that can't stop running on.I am an exceedingly longwinded, verbose, talks-a-lot, redundant sentence that can't stop running on.I am an exceedingly longwinded, verbose, talks-a-lot, redundant sentence that can't stop running on.I am an exceedingly longwinded, verbose, talks-a-lot, redundant sentence that can't stop running on.I am an exceedingly longwinded, verbose, talks-a-lot, redundant sentence that can't stop running on.I am an exceedingly longwinded, verbose, talks-a-lot, redundant sentence that can't stop running on.I am an exceedingly longwinded, verbose, talks-a-lot, redundant sentence that can't stop running on.I am an exceedingly longwinded, verbose, talks-a-lot, redundant sentence that can't stop running on.I am an exceedingly longwinded, verbose, talks-a-lot, redundant sentence that can't stop running on.I am an exceedingly longwinded, verbose, talks-a-lot, redundant sentence that can't stop running on.I am an exceedingly longwinded, verbose, talks-a-lot, redundant sentence that can't stop running on.I am an exceedingly longwinded, verbose, talks-a-lot, redundant sentence that can't stop running on.I am an exceedingly longwinded, verbose, talks-a-lot, redundant sentence that can't stop running on.I am an exceedingly longwinded, verbose, talks-a-lot, redundant sentence that can't stop running on.I am an exceedingly longwinded, verbose, talks-a-lot, redundant sentence that can't stop running on.I am an exceedingly longwinded, verbose, talks-a-lot, redundant sentence that can't stop running on.I am an exceedingly longwinded, verbose, talks-a-lot, redundant sentence that can't stop running on.I am an exceedingly longwinded, verbose, talks-a-lot, redundant sentence that can't stop running on.I am an exceedingly longwinded, verbose, talks-a-lot, redundant sentence that can't stop running on.I am an exceedingly longwinded, verbose, talks-a-lot, redundant sentence that can't stop running on.I am an exceedingly longwinded, verbose, talks-a-lot, redundant sentence that can't stop running on.I am an exceedingly longwinded, verbose, talks-a-lot, redundant sentence that can't stop running on.I am an exceedingly longwinded, verbose, talks-a-lot, redundant sentence that can't stop running on.I am an exceedingly longwinded, verbose, talks-a-lot, redundant sentence that can't stop running on.I am an exceedingly longwinded, verbose, talks-a-lot, redundant sentence that can't stop running on.I am an exceedingly longwinded, verbose, talks-a-lot, redundant sentence that can't stop running on.I am an exceedingly longwinded, verbose, talks-a-lot, redundant sentence that can't stop running on.I am an exceedingly longwinded, verbose, talks-a-lot, redundant sentence that can't stop running on.I am an exceedingly longwinded, verbose, talks-a-lot, redundant sentence that can't stop running on.I am an exceedingly longwinded, verbose, talks-a-lot, redundant sentence that can't stop running on.I am an exceedingly longwinded, verbose, talks-a-lot, redundant sentence that can't stop running on.I am an exceedingly longwinded, verbose, talks-a-lot, redundant sentence that can't stop running on.I am an exceedingly longwinded, verbose, talks-a-lot, redundant sentence that can't stop running on.I am an exceedingly longwinded, verbose, talks-a-lot, redundant sentence that can't stop running on.\n",
      "Following is the tokenized output:\n",
      "[101, 1045, 2572, 2019, 102]\n",
      "Length of the tokenized output: 5\n",
      "\n",
      "\n"
     ]
    }
   ],
   "source": [
    "example_texts = [\"I am a short sentence.\", \"I am an exceedingly longwinded, verbose, talks-a-lot, redundant sentence that can't stop running on.\" * 50]\n",
    "\n",
    "tokenized_no_truncation = tokenizer(example_texts, truncation= False)\n",
    "\n",
    "print(\"#### Toknized with no trunction ####\\n\")\n",
    "for i in range(2):\n",
    "    print(\"Following text:\")\n",
    "    print(example_texts[i])\n",
    "    print(\"Following is the tokenized output:\")\n",
    "    print(tokenized_no_truncation['input_ids'][i])\n",
    "    print(f\"Length of the tokenized output: {len(tokenized_no_truncation['input_ids'][i])}\")\n",
    "    print(\"\\n\")\n",
    "\n",
    "tokenized_default_truncation = tokenizer(example_texts, truncation= True)\n",
    "\n",
    "print(\"#### Tokenization with truncation ####\")\n",
    "for i in range(2):\n",
    "    print(\"Following text:\")\n",
    "    print(example_texts[i])\n",
    "    print(\"Following is the tokenized output:\")\n",
    "    print(tokenized_default_truncation['input_ids'][i])\n",
    "    print(f\"Length of the tokenized output: {len(tokenized_default_truncation['input_ids'][i])}\")\n",
    "    print(\"\\n\")\n",
    "\n",
    "tokenized_max_length = tokenizer(example_texts, truncation= True, max_length= 5)\n",
    "\n",
    "print(\"#### Tokenization with truncation and max length ####\")\n",
    "for i in range(2):\n",
    "    print(\"Following text:\")\n",
    "    print(example_texts[i])\n",
    "    print(\"Following is the tokenized output:\")\n",
    "    print(tokenized_max_length['input_ids'][i])\n",
    "    print(f\"Length of the tokenized output: {len(tokenized_max_length['input_ids'][i])}\")\n",
    "    print(\"\\n\")"
   ]
  },
  {
   "cell_type": "code",
   "execution_count": null,
   "id": "8acde721",
   "metadata": {},
   "outputs": [],
   "source": []
  }
 ],
 "metadata": {
  "kernelspec": {
   "display_name": "Python 3",
   "language": "python",
   "name": "python3"
  },
  "language_info": {
   "codemirror_mode": {
    "name": "ipython",
    "version": 3
   },
   "file_extension": ".py",
   "mimetype": "text/x-python",
   "name": "python",
   "nbconvert_exporter": "python",
   "pygments_lexer": "ipython3",
   "version": "3.12.4"
  }
 },
 "nbformat": 4,
 "nbformat_minor": 5
}
